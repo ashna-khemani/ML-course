{
  "cells": [
    {
      "attachments": {},
      "cell_type": "markdown",
      "metadata": {
        "id": "3DR-eO17geWu"
      },
      "source": [
        "# Convolutional Neural Network"
      ]
    },
    {
      "attachments": {},
      "cell_type": "markdown",
      "metadata": {
        "id": "EMefrVPCg-60"
      },
      "source": [
        "### Importing the libraries"
      ]
    },
    {
      "cell_type": "code",
      "execution_count": 1,
      "metadata": {
        "id": "O7H3ojRpFQJR"
      },
      "outputs": [
        {
          "name": "stderr",
          "output_type": "stream",
          "text": [
            "2023-06-28 00:00:33.540402: I tensorflow/core/platform/cpu_feature_guard.cc:182] This TensorFlow binary is optimized to use available CPU instructions in performance-critical operations.\n",
            "To enable the following instructions: AVX2 FMA, in other operations, rebuild TensorFlow with the appropriate compiler flags.\n"
          ]
        }
      ],
      "source": [
        "import tensorflow as tf\n",
        "from keras.preprocessing.image import ImageDataGenerator"
      ]
    },
    {
      "cell_type": "code",
      "execution_count": 2,
      "metadata": {
        "colab": {
          "base_uri": "https://localhost:8080/",
          "height": 36
        },
        "id": "Eu6_OUfxFgsZ",
        "outputId": "5404d8b4-1438-47a0-8e36-1cb5a00cba0a"
      },
      "outputs": [
        {
          "data": {
            "text/plain": [
              "'2.12.0'"
            ]
          },
          "execution_count": 2,
          "metadata": {},
          "output_type": "execute_result"
        }
      ],
      "source": [
        "tf.__version__"
      ]
    },
    {
      "attachments": {},
      "cell_type": "markdown",
      "metadata": {
        "id": "oxQxCBWyoGPE"
      },
      "source": [
        "## Part 1 - Data Preprocessing"
      ]
    },
    {
      "attachments": {},
      "cell_type": "markdown",
      "metadata": {
        "id": "MvE-heJNo3GG"
      },
      "source": [
        "### Preprocessing the Training set"
      ]
    },
    {
      "cell_type": "code",
      "execution_count": 3,
      "metadata": {
        "id": "BQ2HRwhlJ2L1"
      },
      "outputs": [
        {
          "name": "stdout",
          "output_type": "stream",
          "text": [
            "Found 8024 images belonging to 2 classes.\n"
          ]
        }
      ],
      "source": [
        "train_datagen = ImageDataGenerator(\n",
        "        rescale=1./255,   # Feature scaling – gets all pixel values in e[0,1]\n",
        "        shear_range=0.2,\n",
        "        zoom_range=0.2,\n",
        "        horizontal_flip=True)\n",
        "training_set = train_datagen.flow_from_directory(\n",
        "        'dataset/training_set',\n",
        "        target_size=(64, 64),\n",
        "        batch_size=32,\n",
        "        class_mode='binary')  # we either have cat or dog (binary)\n"
      ]
    },
    {
      "attachments": {},
      "cell_type": "markdown",
      "metadata": {
        "id": "mrCMmGw9pHys"
      },
      "source": [
        "### Preprocessing the Test set"
      ]
    },
    {
      "cell_type": "code",
      "execution_count": 4,
      "metadata": {
        "id": "enuAKCeVR-W4"
      },
      "outputs": [
        {
          "name": "stdout",
          "output_type": "stream",
          "text": [
            "Found 2006 images belonging to 2 classes.\n"
          ]
        }
      ],
      "source": [
        "test_datagen = ImageDataGenerator(rescale=1./255) # no other transformations. we feed it untouched images. just feature scale.\n",
        "test_set = test_datagen.flow_from_directory(\n",
        "        'dataset/test_set',\n",
        "        target_size=(64, 64),\n",
        "        batch_size=32,\n",
        "        class_mode='binary')\n"
      ]
    },
    {
      "attachments": {},
      "cell_type": "markdown",
      "metadata": {
        "id": "af8O4l90gk7B"
      },
      "source": [
        "## Part 2 - Building the CNN"
      ]
    },
    {
      "attachments": {},
      "cell_type": "markdown",
      "metadata": {
        "id": "ces1gXY2lmoX"
      },
      "source": [
        "### Initialising the CNN"
      ]
    },
    {
      "cell_type": "code",
      "execution_count": 5,
      "metadata": {
        "id": "PJkX1VuuTghR"
      },
      "outputs": [],
      "source": [
        "cnn = tf.keras.models.Sequential()"
      ]
    },
    {
      "attachments": {},
      "cell_type": "markdown",
      "metadata": {
        "id": "u5YJj_XMl5LF"
      },
      "source": [
        "### Step 1 - Convolution"
      ]
    },
    {
      "cell_type": "code",
      "execution_count": 6,
      "metadata": {
        "id": "Y6UGdVMCTwdl"
      },
      "outputs": [],
      "source": [
        "cnn.add(tf.keras.layers.Conv2D(filters=32, kernel_size=3, activation='relu', input_shape=[64,64,3]))"
      ]
    },
    {
      "attachments": {},
      "cell_type": "markdown",
      "metadata": {
        "id": "tf87FpvxmNOJ"
      },
      "source": [
        "### Step 2 - Pooling"
      ]
    },
    {
      "cell_type": "code",
      "execution_count": 7,
      "metadata": {
        "id": "Yu5Bj03oWzi1"
      },
      "outputs": [],
      "source": [
        "# Max pooling\n",
        "cnn.add(tf.keras.layers.MaxPool2D(pool_size=2, strides=2))"
      ]
    },
    {
      "attachments": {},
      "cell_type": "markdown",
      "metadata": {
        "id": "xaTOgD8rm4mU"
      },
      "source": [
        "### Adding a second convolutional layer + pooling"
      ]
    },
    {
      "cell_type": "code",
      "execution_count": 8,
      "metadata": {
        "id": "GU9jSAvPXqoz"
      },
      "outputs": [],
      "source": [
        "cnn.add(tf.keras.layers.Conv2D(filters=32, kernel_size=3, activation='relu'))\n",
        "# Max pooling\n",
        "cnn.add(tf.keras.layers.MaxPool2D(pool_size=2, strides=2))"
      ]
    },
    {
      "attachments": {},
      "cell_type": "markdown",
      "metadata": {
        "id": "tmiEuvTunKfk"
      },
      "source": [
        "### Step 3 - Flattening"
      ]
    },
    {
      "cell_type": "code",
      "execution_count": 9,
      "metadata": {
        "id": "TgWMpjJPX9Ja"
      },
      "outputs": [],
      "source": [
        "cnn.add(tf.keras.layers.Flatten())"
      ]
    },
    {
      "attachments": {},
      "cell_type": "markdown",
      "metadata": {
        "id": "dAoSECOm203v"
      },
      "source": [
        "### Step 4 - Full Connection"
      ]
    },
    {
      "cell_type": "code",
      "execution_count": 10,
      "metadata": {
        "id": "yengIWW5YZZU"
      },
      "outputs": [],
      "source": [
        "cnn.add(tf.keras.layers.Dense(units=128, activation='relu'))"
      ]
    },
    {
      "attachments": {},
      "cell_type": "markdown",
      "metadata": {
        "id": "yTldFvbX28Na"
      },
      "source": [
        "### Step 5 - Output Layer"
      ]
    },
    {
      "cell_type": "code",
      "execution_count": 11,
      "metadata": {
        "id": "49L48hfdYoFv"
      },
      "outputs": [],
      "source": [
        "cnn.add(tf.keras.layers.Dense(1, activation='sigmoid')) # 1 neuron because we're doing binary classification"
      ]
    },
    {
      "attachments": {},
      "cell_type": "markdown",
      "metadata": {
        "id": "D6XkI90snSDl"
      },
      "source": [
        "## Part 3 - Training the CNN"
      ]
    },
    {
      "attachments": {},
      "cell_type": "markdown",
      "metadata": {
        "id": "vfrFQACEnc6i"
      },
      "source": [
        "### Compiling the CNN"
      ]
    },
    {
      "cell_type": "code",
      "execution_count": 12,
      "metadata": {
        "id": "mnEGSKu0Zvr6"
      },
      "outputs": [],
      "source": [
        "cnn.compile(optimizer='adam', loss='binary_crossentropy', metrics=['accuracy'])"
      ]
    },
    {
      "attachments": {},
      "cell_type": "markdown",
      "metadata": {
        "id": "ehS-v3MIpX2h"
      },
      "source": [
        "### Training the CNN on the Training set and evaluating it on the Test set"
      ]
    },
    {
      "cell_type": "code",
      "execution_count": 13,
      "metadata": {
        "id": "qNR5_nCtaF2a"
      },
      "outputs": [
        {
          "name": "stdout",
          "output_type": "stream",
          "text": [
            "Epoch 1/25\n"
          ]
        },
        {
          "name": "stderr",
          "output_type": "stream",
          "text": [
            "2023-06-28 00:01:11.359861: I tensorflow/core/common_runtime/executor.cc:1197] [/device:CPU:0] (DEBUG INFO) Executor start aborting (this does not indicate an error and you can ignore this message): INVALID_ARGUMENT: You must feed a value for placeholder tensor 'Placeholder/_0' with dtype int32\n",
            "\t [[{{node Placeholder/_0}}]]\n"
          ]
        },
        {
          "name": "stdout",
          "output_type": "stream",
          "text": [
            "251/251 [==============================] - ETA: 0s - loss: 0.6731 - accuracy: 0.5825"
          ]
        },
        {
          "name": "stderr",
          "output_type": "stream",
          "text": [
            "2023-06-28 00:01:50.659408: I tensorflow/core/common_runtime/executor.cc:1197] [/device:CPU:0] (DEBUG INFO) Executor start aborting (this does not indicate an error and you can ignore this message): INVALID_ARGUMENT: You must feed a value for placeholder tensor 'Placeholder/_0' with dtype int32\n",
            "\t [[{{node Placeholder/_0}}]]\n"
          ]
        },
        {
          "name": "stdout",
          "output_type": "stream",
          "text": [
            "251/251 [==============================] - 46s 181ms/step - loss: 0.6731 - accuracy: 0.5825 - val_loss: 0.6060 - val_accuracy: 0.6625\n",
            "Epoch 2/25\n",
            "251/251 [==============================] - 45s 180ms/step - loss: 0.6106 - accuracy: 0.6694 - val_loss: 0.5559 - val_accuracy: 0.7208\n",
            "Epoch 3/25\n",
            "251/251 [==============================] - 44s 174ms/step - loss: 0.5602 - accuracy: 0.7136 - val_loss: 0.5365 - val_accuracy: 0.7418\n",
            "Epoch 4/25\n",
            "251/251 [==============================] - 47s 189ms/step - loss: 0.5274 - accuracy: 0.7404 - val_loss: 0.5514 - val_accuracy: 0.7303\n",
            "Epoch 5/25\n",
            "251/251 [==============================] - 43s 173ms/step - loss: 0.5007 - accuracy: 0.7517 - val_loss: 0.4959 - val_accuracy: 0.7557\n",
            "Epoch 6/25\n",
            "251/251 [==============================] - 42s 168ms/step - loss: 0.4760 - accuracy: 0.7666 - val_loss: 0.4762 - val_accuracy: 0.7822\n",
            "Epoch 7/25\n",
            "251/251 [==============================] - 44s 175ms/step - loss: 0.4672 - accuracy: 0.7783 - val_loss: 0.5192 - val_accuracy: 0.7537\n",
            "Epoch 8/25\n",
            "251/251 [==============================] - 41s 165ms/step - loss: 0.4403 - accuracy: 0.7977 - val_loss: 0.4812 - val_accuracy: 0.7707\n",
            "Epoch 9/25\n",
            "251/251 [==============================] - 39s 155ms/step - loss: 0.4265 - accuracy: 0.8010 - val_loss: 0.4779 - val_accuracy: 0.7792\n",
            "Epoch 10/25\n",
            "251/251 [==============================] - 40s 159ms/step - loss: 0.4117 - accuracy: 0.8076 - val_loss: 0.4918 - val_accuracy: 0.7772\n",
            "Epoch 11/25\n",
            "251/251 [==============================] - 40s 157ms/step - loss: 0.4006 - accuracy: 0.8152 - val_loss: 0.4547 - val_accuracy: 0.8016\n",
            "Epoch 12/25\n",
            "251/251 [==============================] - 40s 158ms/step - loss: 0.3874 - accuracy: 0.8245 - val_loss: 0.4450 - val_accuracy: 0.8016\n",
            "Epoch 13/25\n",
            "251/251 [==============================] - 40s 157ms/step - loss: 0.3658 - accuracy: 0.8357 - val_loss: 0.4677 - val_accuracy: 0.7876\n",
            "Epoch 14/25\n",
            "251/251 [==============================] - 40s 159ms/step - loss: 0.3529 - accuracy: 0.8431 - val_loss: 0.5102 - val_accuracy: 0.7797\n",
            "Epoch 15/25\n",
            "251/251 [==============================] - 40s 158ms/step - loss: 0.3473 - accuracy: 0.8488 - val_loss: 0.4648 - val_accuracy: 0.8106\n",
            "Epoch 16/25\n",
            "251/251 [==============================] - 40s 158ms/step - loss: 0.3191 - accuracy: 0.8625 - val_loss: 0.4974 - val_accuracy: 0.7886\n",
            "Epoch 17/25\n",
            "251/251 [==============================] - 40s 157ms/step - loss: 0.3111 - accuracy: 0.8652 - val_loss: 0.4717 - val_accuracy: 0.7981\n",
            "Epoch 18/25\n",
            "251/251 [==============================] - 39s 156ms/step - loss: 0.2931 - accuracy: 0.8750 - val_loss: 0.5121 - val_accuracy: 0.7851\n",
            "Epoch 19/25\n",
            "251/251 [==============================] - 38s 153ms/step - loss: 0.2778 - accuracy: 0.8822 - val_loss: 0.5524 - val_accuracy: 0.7836\n",
            "Epoch 20/25\n",
            "251/251 [==============================] - 36s 142ms/step - loss: 0.2630 - accuracy: 0.8902 - val_loss: 0.5220 - val_accuracy: 0.7966\n",
            "Epoch 21/25\n",
            "251/251 [==============================] - 38s 153ms/step - loss: 0.2448 - accuracy: 0.8967 - val_loss: 0.5424 - val_accuracy: 0.7946\n",
            "Epoch 22/25\n",
            "251/251 [==============================] - 39s 154ms/step - loss: 0.2293 - accuracy: 0.9055 - val_loss: 0.5783 - val_accuracy: 0.8016\n",
            "Epoch 23/25\n",
            "251/251 [==============================] - 39s 156ms/step - loss: 0.2262 - accuracy: 0.9039 - val_loss: 0.5667 - val_accuracy: 0.7911\n",
            "Epoch 24/25\n",
            "251/251 [==============================] - 40s 157ms/step - loss: 0.2090 - accuracy: 0.9150 - val_loss: 0.6433 - val_accuracy: 0.7757\n",
            "Epoch 25/25\n",
            "251/251 [==============================] - 42s 167ms/step - loss: 0.1960 - accuracy: 0.9244 - val_loss: 0.5981 - val_accuracy: 0.7911\n"
          ]
        },
        {
          "data": {
            "text/plain": [
              "<keras.callbacks.History at 0x135e0f730>"
            ]
          },
          "execution_count": 13,
          "metadata": {},
          "output_type": "execute_result"
        }
      ],
      "source": [
        "import sys\n",
        "from PIL import Image\n",
        "sys.modules['Image'] = Image \n",
        "cnn.fit(x=training_set, validation_data=test_set, epochs=25)"
      ]
    },
    {
      "attachments": {},
      "cell_type": "markdown",
      "metadata": {
        "id": "U3PZasO0006Z"
      },
      "source": [
        "## Part 4 - Making a single prediction"
      ]
    },
    {
      "cell_type": "code",
      "execution_count": 18,
      "metadata": {
        "id": "t2GW9nVmpudJ"
      },
      "outputs": [
        {
          "name": "stdout",
          "output_type": "stream",
          "text": [
            "1/1 [==============================] - 0s 33ms/step\n"
          ]
        }
      ],
      "source": [
        "import numpy as np\n",
        "from keras.utils import load_img, img_to_array\n",
        "test_image = load_img('dataset/single_prediction/cat_or_dog_2.jpg', target_size=(64,64))\n",
        "test_image = img_to_array(test_image)\n",
        "test_image = np.expand_dims(test_image, axis=0)\n",
        "result = cnn.predict(test_image)\n",
        "training_set.class_indices\n",
        "if result[0][0] == 1: # first and only element in batch -> first and only prediction\n",
        "  prediction = 'dog'\n",
        "else:\n",
        "  prediction = 'cat'"
      ]
    },
    {
      "cell_type": "code",
      "execution_count": 19,
      "metadata": {
        "id": "GDdB-IottBt7"
      },
      "outputs": [
        {
          "name": "stdout",
          "output_type": "stream",
          "text": [
            "cat\n"
          ]
        }
      ],
      "source": [
        "print(prediction)"
      ]
    }
  ],
  "metadata": {
    "colab": {
      "provenance": []
    },
    "kernelspec": {
      "display_name": "Python 3",
      "name": "python3"
    },
    "language_info": {
      "codemirror_mode": {
        "name": "ipython",
        "version": 3
      },
      "file_extension": ".py",
      "mimetype": "text/x-python",
      "name": "python",
      "nbconvert_exporter": "python",
      "pygments_lexer": "ipython3",
      "version": "3.10.2"
    }
  },
  "nbformat": 4,
  "nbformat_minor": 0
}
